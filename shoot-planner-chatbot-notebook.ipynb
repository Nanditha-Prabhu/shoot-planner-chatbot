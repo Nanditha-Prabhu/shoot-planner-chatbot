{
 "cells": [
  {
   "cell_type": "code",
   "execution_count": 1,
   "id": "88feae8a",
   "metadata": {
    "scrolled": true
   },
   "outputs": [
    {
     "name": "stdout",
     "output_type": "stream",
     "text": [
      "Defaulting to user installation because normal site-packages is not writeable\n",
      "Requirement already satisfied: langgraph in c:\\users\\nandithaprabu\\appdata\\roaming\\python\\python311\\site-packages (0.2.59)\n",
      "Requirement already satisfied: langsmith in c:\\users\\nandithaprabu\\appdata\\roaming\\python\\python311\\site-packages (0.2.3)\n",
      "Requirement already satisfied: langchain-core!=0.3.0,!=0.3.1,!=0.3.10,!=0.3.11,!=0.3.12,!=0.3.13,!=0.3.14,!=0.3.15,!=0.3.16,!=0.3.17,!=0.3.18,!=0.3.19,!=0.3.2,!=0.3.20,!=0.3.21,!=0.3.22,!=0.3.3,!=0.3.4,!=0.3.5,!=0.3.6,!=0.3.7,!=0.3.8,!=0.3.9,<0.4.0,>=0.2.43 in c:\\users\\nandithaprabu\\appdata\\roaming\\python\\python311\\site-packages (from langgraph) (0.3.24)\n",
      "Requirement already satisfied: langgraph-checkpoint<3.0.0,>=2.0.4 in c:\\users\\nandithaprabu\\appdata\\roaming\\python\\python311\\site-packages (from langgraph) (2.0.8)\n",
      "Requirement already satisfied: langgraph-sdk<0.2.0,>=0.1.42 in c:\\users\\nandithaprabu\\appdata\\roaming\\python\\python311\\site-packages (from langgraph) (0.1.43)\n",
      "Requirement already satisfied: httpx<1,>=0.23.0 in c:\\programdata\\anaconda3\\lib\\site-packages (from langsmith) (0.26.0)\n",
      "Requirement already satisfied: orjson<4.0.0,>=3.9.14 in c:\\users\\nandithaprabu\\appdata\\roaming\\python\\python311\\site-packages (from langsmith) (3.10.12)\n",
      "Requirement already satisfied: pydantic<3,>=1 in c:\\users\\nandithaprabu\\appdata\\roaming\\python\\python311\\site-packages (from langsmith) (2.10.3)\n",
      "Requirement already satisfied: requests<3,>=2 in c:\\programdata\\anaconda3\\lib\\site-packages (from langsmith) (2.29.0)\n",
      "Requirement already satisfied: requests-toolbelt<2.0.0,>=1.0.0 in c:\\users\\nandithaprabu\\appdata\\roaming\\python\\python311\\site-packages (from langsmith) (1.0.0)\n",
      "Requirement already satisfied: anyio in c:\\programdata\\anaconda3\\lib\\site-packages (from httpx<1,>=0.23.0->langsmith) (3.5.0)\n",
      "Requirement already satisfied: certifi in c:\\programdata\\anaconda3\\lib\\site-packages (from httpx<1,>=0.23.0->langsmith) (2024.2.2)\n",
      "Requirement already satisfied: httpcore==1.* in c:\\programdata\\anaconda3\\lib\\site-packages (from httpx<1,>=0.23.0->langsmith) (1.0.2)\n",
      "Requirement already satisfied: idna in c:\\programdata\\anaconda3\\lib\\site-packages (from httpx<1,>=0.23.0->langsmith) (3.4)\n",
      "Requirement already satisfied: sniffio in c:\\programdata\\anaconda3\\lib\\site-packages (from httpx<1,>=0.23.0->langsmith) (1.2.0)\n",
      "Requirement already satisfied: h11<0.15,>=0.13 in c:\\programdata\\anaconda3\\lib\\site-packages (from httpcore==1.*->httpx<1,>=0.23.0->langsmith) (0.14.0)\n",
      "Requirement already satisfied: PyYAML>=5.3 in c:\\programdata\\anaconda3\\lib\\site-packages (from langchain-core!=0.3.0,!=0.3.1,!=0.3.10,!=0.3.11,!=0.3.12,!=0.3.13,!=0.3.14,!=0.3.15,!=0.3.16,!=0.3.17,!=0.3.18,!=0.3.19,!=0.3.2,!=0.3.20,!=0.3.21,!=0.3.22,!=0.3.3,!=0.3.4,!=0.3.5,!=0.3.6,!=0.3.7,!=0.3.8,!=0.3.9,<0.4.0,>=0.2.43->langgraph) (6.0)\n",
      "Requirement already satisfied: jsonpatch<2.0,>=1.33 in c:\\users\\nandithaprabu\\appdata\\roaming\\python\\python311\\site-packages (from langchain-core!=0.3.0,!=0.3.1,!=0.3.10,!=0.3.11,!=0.3.12,!=0.3.13,!=0.3.14,!=0.3.15,!=0.3.16,!=0.3.17,!=0.3.18,!=0.3.19,!=0.3.2,!=0.3.20,!=0.3.21,!=0.3.22,!=0.3.3,!=0.3.4,!=0.3.5,!=0.3.6,!=0.3.7,!=0.3.8,!=0.3.9,<0.4.0,>=0.2.43->langgraph) (1.33)\n",
      "Requirement already satisfied: packaging<25,>=23.2 in c:\\users\\nandithaprabu\\appdata\\roaming\\python\\python311\\site-packages (from langchain-core!=0.3.0,!=0.3.1,!=0.3.10,!=0.3.11,!=0.3.12,!=0.3.13,!=0.3.14,!=0.3.15,!=0.3.16,!=0.3.17,!=0.3.18,!=0.3.19,!=0.3.2,!=0.3.20,!=0.3.21,!=0.3.22,!=0.3.3,!=0.3.4,!=0.3.5,!=0.3.6,!=0.3.7,!=0.3.8,!=0.3.9,<0.4.0,>=0.2.43->langgraph) (24.2)\n",
      "Requirement already satisfied: tenacity!=8.4.0,<10.0.0,>=8.1.0 in c:\\programdata\\anaconda3\\lib\\site-packages (from langchain-core!=0.3.0,!=0.3.1,!=0.3.10,!=0.3.11,!=0.3.12,!=0.3.13,!=0.3.14,!=0.3.15,!=0.3.16,!=0.3.17,!=0.3.18,!=0.3.19,!=0.3.2,!=0.3.20,!=0.3.21,!=0.3.22,!=0.3.3,!=0.3.4,!=0.3.5,!=0.3.6,!=0.3.7,!=0.3.8,!=0.3.9,<0.4.0,>=0.2.43->langgraph) (8.2.2)\n",
      "Requirement already satisfied: typing-extensions>=4.7 in c:\\users\\nandithaprabu\\appdata\\roaming\\python\\python311\\site-packages (from langchain-core!=0.3.0,!=0.3.1,!=0.3.10,!=0.3.11,!=0.3.12,!=0.3.13,!=0.3.14,!=0.3.15,!=0.3.16,!=0.3.17,!=0.3.18,!=0.3.19,!=0.3.2,!=0.3.20,!=0.3.21,!=0.3.22,!=0.3.3,!=0.3.4,!=0.3.5,!=0.3.6,!=0.3.7,!=0.3.8,!=0.3.9,<0.4.0,>=0.2.43->langgraph) (4.12.2)\n",
      "Requirement already satisfied: msgpack<2.0.0,>=1.1.0 in c:\\users\\nandithaprabu\\appdata\\roaming\\python\\python311\\site-packages (from langgraph-checkpoint<3.0.0,>=2.0.4->langgraph) (1.1.0)\n",
      "Requirement already satisfied: annotated-types>=0.6.0 in c:\\users\\nandithaprabu\\appdata\\roaming\\python\\python311\\site-packages (from pydantic<3,>=1->langsmith) (0.7.0)\n",
      "Requirement already satisfied: pydantic-core==2.27.1 in c:\\users\\nandithaprabu\\appdata\\roaming\\python\\python311\\site-packages (from pydantic<3,>=1->langsmith) (2.27.1)\n",
      "Requirement already satisfied: charset-normalizer<4,>=2 in c:\\programdata\\anaconda3\\lib\\site-packages (from requests<3,>=2->langsmith) (2.0.4)\n",
      "Requirement already satisfied: urllib3<1.27,>=1.21.1 in c:\\programdata\\anaconda3\\lib\\site-packages (from requests<3,>=2->langsmith) (1.26.16)\n",
      "Requirement already satisfied: jsonpointer>=1.9 in c:\\programdata\\anaconda3\\lib\\site-packages (from jsonpatch<2.0,>=1.33->langchain-core!=0.3.0,!=0.3.1,!=0.3.10,!=0.3.11,!=0.3.12,!=0.3.13,!=0.3.14,!=0.3.15,!=0.3.16,!=0.3.17,!=0.3.18,!=0.3.19,!=0.3.2,!=0.3.20,!=0.3.21,!=0.3.22,!=0.3.3,!=0.3.4,!=0.3.5,!=0.3.6,!=0.3.7,!=0.3.8,!=0.3.9,<0.4.0,>=0.2.43->langgraph) (2.1)\n"
     ]
    }
   ],
   "source": [
    "!pip install langgraph langsmith"
   ]
  },
  {
   "cell_type": "code",
   "execution_count": 2,
   "id": "389ddcd2",
   "metadata": {
    "scrolled": true
   },
   "outputs": [
    {
     "name": "stdout",
     "output_type": "stream",
     "text": [
      "Defaulting to user installation because normal site-packages is not writeable\n",
      "Requirement already satisfied: langchain in c:\\users\\nandithaprabu\\appdata\\roaming\\python\\python311\\site-packages (0.3.11)\n",
      "Requirement already satisfied: langchain_groq in c:\\users\\nandithaprabu\\appdata\\roaming\\python\\python311\\site-packages (0.2.1)\n",
      "Requirement already satisfied: langchain_community in c:\\users\\nandithaprabu\\appdata\\roaming\\python\\python311\\site-packages (0.3.11)\n",
      "Requirement already satisfied: PyYAML>=5.3 in c:\\programdata\\anaconda3\\lib\\site-packages (from langchain) (6.0)\n",
      "Requirement already satisfied: SQLAlchemy<3,>=1.4 in c:\\programdata\\anaconda3\\lib\\site-packages (from langchain) (1.4.39)\n",
      "Requirement already satisfied: aiohttp<4.0.0,>=3.8.3 in c:\\programdata\\anaconda3\\lib\\site-packages (from langchain) (3.8.3)\n",
      "Requirement already satisfied: langchain-core<0.4.0,>=0.3.24 in c:\\users\\nandithaprabu\\appdata\\roaming\\python\\python311\\site-packages (from langchain) (0.3.24)\n",
      "Requirement already satisfied: langchain-text-splitters<0.4.0,>=0.3.0 in c:\\users\\nandithaprabu\\appdata\\roaming\\python\\python311\\site-packages (from langchain) (0.3.2)\n",
      "Requirement already satisfied: langsmith<0.3,>=0.1.17 in c:\\users\\nandithaprabu\\appdata\\roaming\\python\\python311\\site-packages (from langchain) (0.2.3)\n",
      "Requirement already satisfied: numpy<2,>=1.22.4 in c:\\programdata\\anaconda3\\lib\\site-packages (from langchain) (1.24.3)\n",
      "Requirement already satisfied: pydantic<3.0.0,>=2.7.4 in c:\\users\\nandithaprabu\\appdata\\roaming\\python\\python311\\site-packages (from langchain) (2.10.3)\n",
      "Requirement already satisfied: requests<3,>=2 in c:\\programdata\\anaconda3\\lib\\site-packages (from langchain) (2.29.0)\n",
      "Requirement already satisfied: tenacity!=8.4.0,<10,>=8.1.0 in c:\\programdata\\anaconda3\\lib\\site-packages (from langchain) (8.2.2)\n",
      "Requirement already satisfied: groq<1,>=0.4.1 in c:\\users\\nandithaprabu\\appdata\\roaming\\python\\python311\\site-packages (from langchain_groq) (0.13.0)\n",
      "Requirement already satisfied: dataclasses-json<0.7,>=0.5.7 in c:\\users\\nandithaprabu\\appdata\\roaming\\python\\python311\\site-packages (from langchain_community) (0.6.7)\n",
      "Requirement already satisfied: httpx-sse<0.5.0,>=0.4.0 in c:\\users\\nandithaprabu\\appdata\\roaming\\python\\python311\\site-packages (from langchain_community) (0.4.0)\n",
      "Requirement already satisfied: pydantic-settings<3.0.0,>=2.4.0 in c:\\users\\nandithaprabu\\appdata\\roaming\\python\\python311\\site-packages (from langchain_community) (2.6.1)\n",
      "Requirement already satisfied: attrs>=17.3.0 in c:\\programdata\\anaconda3\\lib\\site-packages (from aiohttp<4.0.0,>=3.8.3->langchain) (22.1.0)\n",
      "Requirement already satisfied: charset-normalizer<3.0,>=2.0 in c:\\programdata\\anaconda3\\lib\\site-packages (from aiohttp<4.0.0,>=3.8.3->langchain) (2.0.4)\n",
      "Requirement already satisfied: multidict<7.0,>=4.5 in c:\\programdata\\anaconda3\\lib\\site-packages (from aiohttp<4.0.0,>=3.8.3->langchain) (6.0.2)\n",
      "Requirement already satisfied: async-timeout<5.0,>=4.0.0a3 in c:\\programdata\\anaconda3\\lib\\site-packages (from aiohttp<4.0.0,>=3.8.3->langchain) (4.0.2)\n",
      "Requirement already satisfied: yarl<2.0,>=1.0 in c:\\programdata\\anaconda3\\lib\\site-packages (from aiohttp<4.0.0,>=3.8.3->langchain) (1.8.1)\n",
      "Requirement already satisfied: frozenlist>=1.1.1 in c:\\programdata\\anaconda3\\lib\\site-packages (from aiohttp<4.0.0,>=3.8.3->langchain) (1.3.3)\n",
      "Requirement already satisfied: aiosignal>=1.1.2 in c:\\programdata\\anaconda3\\lib\\site-packages (from aiohttp<4.0.0,>=3.8.3->langchain) (1.2.0)\n",
      "Requirement already satisfied: marshmallow<4.0.0,>=3.18.0 in c:\\users\\nandithaprabu\\appdata\\roaming\\python\\python311\\site-packages (from dataclasses-json<0.7,>=0.5.7->langchain_community) (3.23.1)\n",
      "Requirement already satisfied: typing-inspect<1,>=0.4.0 in c:\\users\\nandithaprabu\\appdata\\roaming\\python\\python311\\site-packages (from dataclasses-json<0.7,>=0.5.7->langchain_community) (0.9.0)\n",
      "Requirement already satisfied: anyio<5,>=3.5.0 in c:\\programdata\\anaconda3\\lib\\site-packages (from groq<1,>=0.4.1->langchain_groq) (3.5.0)\n",
      "Requirement already satisfied: distro<2,>=1.7.0 in c:\\users\\nandithaprabu\\appdata\\roaming\\python\\python311\\site-packages (from groq<1,>=0.4.1->langchain_groq) (1.9.0)\n",
      "Requirement already satisfied: httpx<1,>=0.23.0 in c:\\programdata\\anaconda3\\lib\\site-packages (from groq<1,>=0.4.1->langchain_groq) (0.26.0)\n",
      "Requirement already satisfied: sniffio in c:\\programdata\\anaconda3\\lib\\site-packages (from groq<1,>=0.4.1->langchain_groq) (1.2.0)\n",
      "Requirement already satisfied: typing-extensions<5,>=4.7 in c:\\users\\nandithaprabu\\appdata\\roaming\\python\\python311\\site-packages (from groq<1,>=0.4.1->langchain_groq) (4.12.2)\n",
      "Requirement already satisfied: jsonpatch<2.0,>=1.33 in c:\\users\\nandithaprabu\\appdata\\roaming\\python\\python311\\site-packages (from langchain-core<0.4.0,>=0.3.24->langchain) (1.33)\n",
      "Requirement already satisfied: packaging<25,>=23.2 in c:\\users\\nandithaprabu\\appdata\\roaming\\python\\python311\\site-packages (from langchain-core<0.4.0,>=0.3.24->langchain) (24.2)\n",
      "Requirement already satisfied: orjson<4.0.0,>=3.9.14 in c:\\users\\nandithaprabu\\appdata\\roaming\\python\\python311\\site-packages (from langsmith<0.3,>=0.1.17->langchain) (3.10.12)\n",
      "Requirement already satisfied: requests-toolbelt<2.0.0,>=1.0.0 in c:\\users\\nandithaprabu\\appdata\\roaming\\python\\python311\\site-packages (from langsmith<0.3,>=0.1.17->langchain) (1.0.0)\n",
      "Requirement already satisfied: annotated-types>=0.6.0 in c:\\users\\nandithaprabu\\appdata\\roaming\\python\\python311\\site-packages (from pydantic<3.0.0,>=2.7.4->langchain) (0.7.0)\n",
      "Requirement already satisfied: pydantic-core==2.27.1 in c:\\users\\nandithaprabu\\appdata\\roaming\\python\\python311\\site-packages (from pydantic<3.0.0,>=2.7.4->langchain) (2.27.1)\n",
      "Requirement already satisfied: python-dotenv>=0.21.0 in c:\\programdata\\anaconda3\\lib\\site-packages (from pydantic-settings<3.0.0,>=2.4.0->langchain_community) (0.21.0)\n",
      "Requirement already satisfied: idna<4,>=2.5 in c:\\programdata\\anaconda3\\lib\\site-packages (from requests<3,>=2->langchain) (3.4)\n",
      "Requirement already satisfied: urllib3<1.27,>=1.21.1 in c:\\programdata\\anaconda3\\lib\\site-packages (from requests<3,>=2->langchain) (1.26.16)\n",
      "Requirement already satisfied: certifi>=2017.4.17 in c:\\programdata\\anaconda3\\lib\\site-packages (from requests<3,>=2->langchain) (2024.2.2)\n",
      "Requirement already satisfied: greenlet!=0.4.17 in c:\\programdata\\anaconda3\\lib\\site-packages (from SQLAlchemy<3,>=1.4->langchain) (2.0.1)\n",
      "Requirement already satisfied: httpcore==1.* in c:\\programdata\\anaconda3\\lib\\site-packages (from httpx<1,>=0.23.0->groq<1,>=0.4.1->langchain_groq) (1.0.2)\n",
      "Requirement already satisfied: h11<0.15,>=0.13 in c:\\programdata\\anaconda3\\lib\\site-packages (from httpcore==1.*->httpx<1,>=0.23.0->groq<1,>=0.4.1->langchain_groq) (0.14.0)\n",
      "Requirement already satisfied: jsonpointer>=1.9 in c:\\programdata\\anaconda3\\lib\\site-packages (from jsonpatch<2.0,>=1.33->langchain-core<0.4.0,>=0.3.24->langchain) (2.1)\n",
      "Requirement already satisfied: mypy-extensions>=0.3.0 in c:\\programdata\\anaconda3\\lib\\site-packages (from typing-inspect<1,>=0.4.0->dataclasses-json<0.7,>=0.5.7->langchain_community) (0.4.3)\n"
     ]
    }
   ],
   "source": [
    "!pip install langchain langchain_groq langchain_community"
   ]
  },
  {
   "cell_type": "code",
   "execution_count": 3,
   "id": "94a61758",
   "metadata": {},
   "outputs": [],
   "source": [
    "#<groq and langsmith api keys>"
   ]
  },
  {
   "cell_type": "code",
   "execution_count": 4,
   "id": "4f260645",
   "metadata": {},
   "outputs": [],
   "source": [
    "import os\n",
    "\n",
    "os.environ['LANGSMITH_API_KEY'] = langsmith_api_key\n",
    "os.environ['LANGCHAIN_TRACING_V2'] = \"true\"\n",
    "os.environ['LANGCHAIN_PROJECT'] = \"langgraph-chatbot\""
   ]
  },
  {
   "cell_type": "code",
   "execution_count": 5,
   "id": "a0ee7356",
   "metadata": {},
   "outputs": [
    {
     "data": {
      "text/plain": [
       "'{\"location\":[\"Los Angeles\"]}\\n'"
      ]
     },
     "execution_count": 5,
     "metadata": {},
     "output_type": "execute_result"
    }
   ],
   "source": [
    "import requests\n",
    "\n",
    "url = \"http://127.0.0.1:5000/location\"\n",
    "headers = {'Content-type': 'application/json'}\n",
    "\n",
    "r = requests.post(url, headers = headers)\n",
    "loc = r.text\n",
    "loc"
   ]
  },
  {
   "cell_type": "code",
   "execution_count": 6,
   "id": "d7b7c780",
   "metadata": {},
   "outputs": [
    {
     "data": {
      "text/plain": [
       "'{\"end_date\":\"Fri, 20 Dec 2024 00:00:00 GMT\",\"job_title\":\"Camera Operator\",\"location\":\"Los Angeles\",\"project_name\":\"Project Alpha\",\"skills\":\"Cinematography, Editing\",\"specializations\":\"Documentaries\",\"start_date\":\"Sun, 15 Dec 2024 00:00:00 GMT\"}\\n'"
      ]
     },
     "execution_count": 6,
     "metadata": {},
     "output_type": "execute_result"
    }
   ],
   "source": [
    "url = \"http://127.0.0.1:5000/crew_desc\"\n",
    "headers = {'Content-type': 'application/json'}\n",
    "\n",
    "r = requests.post(url, headers = headers)\n",
    "crew = r.text\n",
    "crew"
   ]
  },
  {
   "cell_type": "code",
   "execution_count": 7,
   "id": "633d6205",
   "metadata": {},
   "outputs": [],
   "source": [
    "from langchain_groq import ChatGroq\n",
    "llm = ChatGroq(groq_api_key = groq_api_key, model_name = \"llama-3.1-70b-versatile\")"
   ]
  },
  {
   "cell_type": "code",
   "execution_count": 8,
   "id": "54b36e08",
   "metadata": {},
   "outputs": [],
   "source": [
    "from typing import Annotated\n",
    "from typing_extensions import TypedDict\n",
    "from langgraph.graph import StateGraph, START, END\n",
    "from langgraph.graph.message import add_messages"
   ]
  },
  {
   "cell_type": "code",
   "execution_count": 9,
   "id": "02bc9440",
   "metadata": {},
   "outputs": [],
   "source": [
    "class State(TypedDict):\n",
    "    messages:Annotated[list, add_messages]"
   ]
  },
  {
   "cell_type": "code",
   "execution_count": 10,
   "id": "c0254567",
   "metadata": {},
   "outputs": [],
   "source": [
    "graph_builder = StateGraph(State)"
   ]
  },
  {
   "cell_type": "code",
   "execution_count": 11,
   "id": "aa16194c",
   "metadata": {},
   "outputs": [],
   "source": [
    "def budget(state: State):\n",
    "    # Add instructions or description to guide the LLM's response\n",
    "    system_message = {\n",
    "        \"role\": \"system\",\n",
    "        \"content\": f\"Generate a comprehensive budget report for the film production. Consider transportation, compliance, logistics, crew, equipment rental, catering, and accommodation costs. Account for hiring costs, including wages and benefits for local and international crew, specifying roles such as directors, cinematographers, and production assistants. If certain crew roles cannot be filled locally, provide cost estimates for flying in specialized personnel. The team is traveling from {loc}.\"\n",
    "    }\n",
    "\n",
    "    # Append the system message to the existing messages in the state\n",
    "    messages = state.get(\"messages\", [])\n",
    "    messages.insert(0, system_message)  # Ensure the system message is the first in the conversation\n",
    "\n",
    "    # Invoke the LLM with the updated messages\n",
    "    return {\"messages\": llm.invoke(messages)}"
   ]
  },
  {
   "cell_type": "code",
   "execution_count": 12,
   "id": "82c13900",
   "metadata": {},
   "outputs": [],
   "source": [
    "def logistics(state: State):\n",
    "    # Add instructions or description to guide the LLM's response\n",
    "    system_message = {\n",
    "        \"role\": \"system\",\n",
    "        \"content\": f\"Generate a comprehensive report on logistics planning for the shoot. Include travel arrangements, equipment transportation, and the exact details of equipment ordered (e.g., cameras, lights, drones). Analyze where each piece of equipment is currently located, the transportation time required, and contingency plans for delays. Additionally, outline the crew members' travel schedules, current locations, on-site accommodation, and daily transport between locations. The production team is traveling from {loc}.\"\n",
    "    }\n",
    "\n",
    "    # Append the system message to the existing messages in the state\n",
    "    messages = state.get(\"messages\", [])\n",
    "    messages.insert(0, system_message)  # Ensure the system message is the first in the conversation\n",
    "\n",
    "    # Invoke the LLM with the updated messages\n",
    "    return {\"messages\": llm.invoke(messages)}"
   ]
  },
  {
   "cell_type": "code",
   "execution_count": 13,
   "id": "7ceeaa87",
   "metadata": {},
   "outputs": [],
   "source": [
    "def compliance(state: State):\n",
    "    # Add instructions or description to guide the LLM's response\n",
    "    system_message = {\n",
    "        \"role\": \"system\",\n",
    "        \"content\": f\"Generate a comprehensive compliance checklist for shooting in a foreign location. Include permits, legal requirements, insurance policies, local tax implications, safety protocols, and environmental regulations. If applicable, outline crew-specific compliance requirements, such as work permits, contracts, and union regulations. Provide a timeline for ensuring compliance for both local and international crew members. The production team is traveling from {loc}.\"\n",
    "    }\n",
    "\n",
    "    # Append the system message to the existing messages in the state\n",
    "    messages = state.get(\"messages\", [])\n",
    "    messages.insert(0, system_message)  # Ensure the system message is the first in the conversation\n",
    "\n",
    "    # Invoke the LLM with the updated messages\n",
    "    return {\"messages\": llm.invoke(messages)}"
   ]
  },
  {
   "cell_type": "code",
   "execution_count": 14,
   "id": "19e830b9",
   "metadata": {},
   "outputs": [],
   "source": [
    "def culture(state: State):\n",
    "    # Add instructions or description to guide the LLM's response\n",
    "    system_message = {\n",
    "        \"role\": \"system\",\n",
    "        \"content\": f\"Generate a comprehensive report on cultural considerations for a film shoot. Include local etiquette, communication styles, festivals, potential cultural sensitivities, and how they might impact the shooting schedule. Also, highlight how to best integrate with the local crew, including their work culture and expectations. The production team is traveling from {loc}.\"\n",
    "    }\n",
    "\n",
    "    # Append the system message to the existing messages in the state\n",
    "    messages = state.get(\"messages\", [])\n",
    "    messages.insert(0, system_message)  # Ensure the system message is the first in the conversation\n",
    "\n",
    "    # Invoke the LLM with the updated messages\n",
    "    return {\"messages\": llm.invoke(messages)}"
   ]
  },
  {
   "cell_type": "code",
   "execution_count": 15,
   "id": "f67c43d6",
   "metadata": {},
   "outputs": [],
   "source": [
    "def equipment(state: State):\n",
    "    # Add instructions or description to guide the LLM's response\n",
    "    system_message = {\n",
    "        \"role\": \"system\",\n",
    "        \"content\": f\"You are a helpful assistant specializing in providing detailed answers to rental equipments-related queries for film production. Be concise but accurate. Information about the crew: {crew}\"\n",
    "    }\n",
    "\n",
    "    # Append the system message to the existing messages in the state\n",
    "    messages = state.get(\"messages\", [])\n",
    "    messages.insert(0, system_message)  # Ensure the system message is the first in the conversation\n",
    "\n",
    "    # Invoke the LLM with the updated messages\n",
    "    return {\"messages\": llm.invoke(messages)}"
   ]
  },
  {
   "cell_type": "code",
   "execution_count": 16,
   "id": "4b07bd2a",
   "metadata": {},
   "outputs": [],
   "source": [
    "def crew(state: State):\n",
    "    # Add instructions or description to guide the LLM's response\n",
    "    system_message = {\n",
    "        \"role\": \"system\",\n",
    "        \"content\": f\"You are a helpful assistant specializing in providing detailed answers to crew-related queries for film production. Be concise but accurate. Information about the crew: {crew}\"\n",
    "    }\n",
    "\n",
    "    # Append the system message to the existing messages in the state\n",
    "    messages = state.get(\"messages\", [])\n",
    "    messages.insert(0, system_message)  # Ensure the system message is the first in the conversation\n",
    "\n",
    "    # Invoke the LLM with the updated messages\n",
    "    return {\"messages\": llm.invoke(messages)}"
   ]
  },
  {
   "cell_type": "code",
   "execution_count": 17,
   "id": "d735ef95",
   "metadata": {},
   "outputs": [],
   "source": [
    "def continue_next(state: State):\n",
    "    user_input = state.get('content', '').lower()\n",
    "    if \"culture\" in user_input:\n",
    "        return \"culture\"\n",
    "    elif \"equipment\" in user_input:\n",
    "        return \"equipment\"\n",
    "    else:\n",
    "        return \"crew\""
   ]
  },
  {
   "cell_type": "code",
   "execution_count": 18,
   "id": "0fcbb879",
   "metadata": {},
   "outputs": [
    {
     "data": {
      "text/plain": [
       "<langgraph.graph.state.StateGraph at 0x23ae69cd6d0>"
      ]
     },
     "execution_count": 18,
     "metadata": {},
     "output_type": "execute_result"
    }
   ],
   "source": [
    "graph_builder.add_node(\"Budget\", budget)\n",
    "graph_builder.add_node(\"Logistics\", logistics)\n",
    "graph_builder.add_node(\"Compliance\", compliance)\n",
    "graph_builder.add_node(\"Culture\", culture)\n",
    "graph_builder.add_node(\"Equipment\", equipment)\n",
    "graph_builder.add_node(\"Crew\", crew)"
   ]
  },
  {
   "cell_type": "code",
   "execution_count": 19,
   "id": "36c42858",
   "metadata": {},
   "outputs": [
    {
     "data": {
      "text/plain": [
       "<langgraph.graph.state.StateGraph at 0x23ae69cd6d0>"
      ]
     },
     "execution_count": 19,
     "metadata": {},
     "output_type": "execute_result"
    }
   ],
   "source": [
    "graph_builder.add_conditional_edges(START, continue_next, {\"crew\": \"Crew\", \"equipment\": \"Equipment\", \"culture\": \"Culture\"})"
   ]
  },
  {
   "cell_type": "code",
   "execution_count": 20,
   "id": "a030f8e6",
   "metadata": {},
   "outputs": [
    {
     "data": {
      "text/plain": [
       "<langgraph.graph.state.StateGraph at 0x23ae69cd6d0>"
      ]
     },
     "execution_count": 20,
     "metadata": {},
     "output_type": "execute_result"
    }
   ],
   "source": [
    "graph_builder.add_edge(\"Crew\", \"Logistics\")\n",
    "graph_builder.add_edge(\"Equipment\", \"Logistics\")\n",
    "graph_builder.add_edge(\"Equipment\", \"Compliance\")\n",
    "graph_builder.add_edge(\"Logistics\", \"Budget\")\n",
    "graph_builder.add_edge(\"Compliance\", \"Budget\")\n",
    "graph_builder.add_edge(\"Culture\", \"Budget\")"
   ]
  },
  {
   "cell_type": "code",
   "execution_count": 21,
   "id": "fbfd2379",
   "metadata": {},
   "outputs": [
    {
     "data": {
      "text/plain": [
       "<langgraph.graph.state.StateGraph at 0x23ae69cd6d0>"
      ]
     },
     "execution_count": 21,
     "metadata": {},
     "output_type": "execute_result"
    }
   ],
   "source": [
    "graph_builder.add_edge(\"Budget\", END)"
   ]
  },
  {
   "cell_type": "code",
   "execution_count": 22,
   "id": "dd52670e",
   "metadata": {},
   "outputs": [],
   "source": [
    "graph = graph_builder.compile()"
   ]
  },
  {
   "cell_type": "code",
   "execution_count": 23,
   "id": "c0c58eb3",
   "metadata": {},
   "outputs": [
    {
     "data": {
      "image/png": "[encoded data removed]",
      "text/plain": [
       "<IPython.core.display.Image object>"
      ]
     },
     "metadata": {},
     "output_type": "display_data"
    }
   ],
   "source": [
    "from IPython.display import Image, display\n",
    "\n",
    "try:\n",
    "    display(Image(graph.get_graph().draw_mermaid_png()))\n",
    "except Exception as e:\n",
    "    print(e)"
   ]
  },
  {
   "cell_type": "code",
   "execution_count": 24,
   "id": "8a8259bf",
   "metadata": {
    "scrolled": true
   },
   "outputs": [
    {
     "name": "stdout",
     "output_type": "stream",
     "text": [
      "User: i want to organize a shoot in japan\n",
      "dict_values([{'messages': AIMessage(content=\"Organizing a film shoot in Japan can be a unique experience. Here's an overview of what you should consider:\\n\\n**Permits and Permissions**\\n\\n1. **Location permits**: Obtain permission from local authorities, such as ward offices or prefectural governments, to film at specific locations.\\n2. **National Park permits**: For filming in national parks, you'll need to obtain a permit from the Ministry of the Environment.\\n3. **Private property permits**: Get permission from property owners or managers for filming on private land.\\n\\n**Crew and Staffing**\\n\\n1. **Local crew**: Hire a Japanese production team, including a line producer, location manager, and camera crew, to help navigate local regulations and customs.\\n2. **Language support**: Consider hiring a translator or interpreter to facilitate communication with local authorities, vendors, and crew members.\\n\\n**Logistics and Equipment**\\n\\n1. **Equipment import**: If you plan to bring equipment from abroad, you'll need to comply with Japanese customs regulations and may need to obtain a Carnet ATA (Admission Temporaire) for temporary import.\\n2. **Location scouting**: Work with a local location manager to find and secure suitable locations.\\n3. **Accommodation and transportation**: Arrange for crew accommodations and transportation, considering Japan's unique rail network and accommodation options.\\n\\n**Cultural and Social Considerations**\\n\\n1. **Respect local customs**: Japan is known for its strict etiquette and respect for tradition. Ensure your crew is aware of local customs and practices.\\n2. **Working hours and conditions**: Japan has strict labor laws, including working hours and conditions. Ensure you comply with these regulations to avoid any issues.\\n\\n**Additional Tips**\\n\\n1. **Plan ahead**: Japan is a popular filming location, so book locations, accommodations, and equipment well in advance.\\n2. **Budget and scheduling**: Consider the costs and time required for filming in Japan, including potential delays due to weather or location changes.\\n3. **Local expertise**: Collaborate with local experts, such as a Japanese production company or a fixer, to ensure a smooth and successful shoot.\\n\\nSome popular filming locations in Japan include:\\n\\n1. Tokyo: Known for its vibrant streets, neon lights, and iconic landmarks like Shibuya Crossing and Tokyo Tower.\\n2. Kyoto: Famous for its traditional temples, gardens, and geisha culture.\\n3. Osaka: A bustling city with a unique food culture and entertainment district.\\n4. Hiroshima: A historic city with a somber atmosphere and iconic landmarks like the Peace Memorial Park.\\n5. Mount Fuji: A iconic natural landmark and popular location for filming.\\n\\n**Filming Incentives**\\n\\nJapan offers various filming incentives, such as:\\n\\n1. **The Japanese Film Commission**: Provides support for international film productions, including location scouting and permitting assistance.\\n2. **The Tokyo Metropolitan Government's Film Commission**: Offers incentives for filming in Tokyo, including a rebate program and location assistance.\\n\\nPlease let me know what specific information you would like me to elaborate on.\", additional_kwargs={}, response_metadata={'token_usage': {'completion_tokens': 602, 'prompt_tokens': 88, 'total_tokens': 690, 'completion_time': 2.408, 'prompt_time': 0.016294767, 'queue_time': 0.0033524429999999966, 'total_time': 2.424294767}, 'model_name': 'llama-3.1-70b-versatile', 'system_fingerprint': 'fp_b6828be2c9', 'finish_reason': 'stop', 'logprobs': None}, id='run-e479c54c-b3fe-4cbb-a6b4-5f00e72c7cc6-0', usage_metadata={'input_tokens': 88, 'output_tokens': 602, 'total_tokens': 690})}])\n",
      "content=\"Organizing a film shoot in Japan can be a unique experience. Here's an overview of what you should consider:\\n\\n**Permits and Permissions**\\n\\n1. **Location permits**: Obtain permission from local authorities, such as ward offices or prefectural governments, to film at specific locations.\\n2. **National Park permits**: For filming in national parks, you'll need to obtain a permit from the Ministry of the Environment.\\n3. **Private property permits**: Get permission from property owners or managers for filming on private land.\\n\\n**Crew and Staffing**\\n\\n1. **Local crew**: Hire a Japanese production team, including a line producer, location manager, and camera crew, to help navigate local regulations and customs.\\n2. **Language support**: Consider hiring a translator or interpreter to facilitate communication with local authorities, vendors, and crew members.\\n\\n**Logistics and Equipment**\\n\\n1. **Equipment import**: If you plan to bring equipment from abroad, you'll need to comply with Japanese customs regulations and may need to obtain a Carnet ATA (Admission Temporaire) for temporary import.\\n2. **Location scouting**: Work with a local location manager to find and secure suitable locations.\\n3. **Accommodation and transportation**: Arrange for crew accommodations and transportation, considering Japan's unique rail network and accommodation options.\\n\\n**Cultural and Social Considerations**\\n\\n1. **Respect local customs**: Japan is known for its strict etiquette and respect for tradition. Ensure your crew is aware of local customs and practices.\\n2. **Working hours and conditions**: Japan has strict labor laws, including working hours and conditions. Ensure you comply with these regulations to avoid any issues.\\n\\n**Additional Tips**\\n\\n1. **Plan ahead**: Japan is a popular filming location, so book locations, accommodations, and equipment well in advance.\\n2. **Budget and scheduling**: Consider the costs and time required for filming in Japan, including potential delays due to weather or location changes.\\n3. **Local expertise**: Collaborate with local experts, such as a Japanese production company or a fixer, to ensure a smooth and successful shoot.\\n\\nSome popular filming locations in Japan include:\\n\\n1. Tokyo: Known for its vibrant streets, neon lights, and iconic landmarks like Shibuya Crossing and Tokyo Tower.\\n2. Kyoto: Famous for its traditional temples, gardens, and geisha culture.\\n3. Osaka: A bustling city with a unique food culture and entertainment district.\\n4. Hiroshima: A historic city with a somber atmosphere and iconic landmarks like the Peace Memorial Park.\\n5. Mount Fuji: A iconic natural landmark and popular location for filming.\\n\\n**Filming Incentives**\\n\\nJapan offers various filming incentives, such as:\\n\\n1. **The Japanese Film Commission**: Provides support for international film productions, including location scouting and permitting assistance.\\n2. **The Tokyo Metropolitan Government's Film Commission**: Offers incentives for filming in Tokyo, including a rebate program and location assistance.\\n\\nPlease let me know what specific information you would like me to elaborate on.\" additional_kwargs={} response_metadata={'token_usage': {'completion_tokens': 602, 'prompt_tokens': 88, 'total_tokens': 690, 'completion_time': 2.408, 'prompt_time': 0.016294767, 'queue_time': 0.0033524429999999966, 'total_time': 2.424294767}, 'model_name': 'llama-3.1-70b-versatile', 'system_fingerprint': 'fp_b6828be2c9', 'finish_reason': 'stop', 'logprobs': None} id='run-e479c54c-b3fe-4cbb-a6b4-5f00e72c7cc6-0' usage_metadata={'input_tokens': 88, 'output_tokens': 602, 'total_tokens': 690}\n",
      "Assistant:  Organizing a film shoot in Japan can be a unique experience. Here's an overview of what you should consider:\n",
      "\n",
      "**Permits and Permissions**\n",
      "\n",
      "1. **Location permits**: Obtain permission from local authorities, such as ward offices or prefectural governments, to film at specific locations.\n",
      "2. **National Park permits**: For filming in national parks, you'll need to obtain a permit from the Ministry of the Environment.\n",
      "3. **Private property permits**: Get permission from property owners or managers for filming on private land.\n",
      "\n",
      "**Crew and Staffing**\n",
      "\n",
      "1. **Local crew**: Hire a Japanese production team, including a line producer, location manager, and camera crew, to help navigate local regulations and customs.\n",
      "2. **Language support**: Consider hiring a translator or interpreter to facilitate communication with local authorities, vendors, and crew members.\n",
      "\n",
      "**Logistics and Equipment**\n",
      "\n",
      "1. **Equipment import**: If you plan to bring equipment from abroad, you'll need to comply with Japanese customs regulations and may need to obtain a Carnet ATA (Admission Temporaire) for temporary import.\n",
      "2. **Location scouting**: Work with a local location manager to find and secure suitable locations.\n",
      "3. **Accommodation and transportation**: Arrange for crew accommodations and transportation, considering Japan's unique rail network and accommodation options.\n",
      "\n",
      "**Cultural and Social Considerations**\n",
      "\n",
      "1. **Respect local customs**: Japan is known for its strict etiquette and respect for tradition. Ensure your crew is aware of local customs and practices.\n",
      "2. **Working hours and conditions**: Japan has strict labor laws, including working hours and conditions. Ensure you comply with these regulations to avoid any issues.\n",
      "\n",
      "**Additional Tips**\n",
      "\n",
      "1. **Plan ahead**: Japan is a popular filming location, so book locations, accommodations, and equipment well in advance.\n",
      "2. **Budget and scheduling**: Consider the costs and time required for filming in Japan, including potential delays due to weather or location changes.\n",
      "3. **Local expertise**: Collaborate with local experts, such as a Japanese production company or a fixer, to ensure a smooth and successful shoot.\n",
      "\n",
      "Some popular filming locations in Japan include:\n",
      "\n",
      "1. Tokyo: Known for its vibrant streets, neon lights, and iconic landmarks like Shibuya Crossing and Tokyo Tower.\n",
      "2. Kyoto: Famous for its traditional temples, gardens, and geisha culture.\n",
      "3. Osaka: A bustling city with a unique food culture and entertainment district.\n",
      "4. Hiroshima: A historic city with a somber atmosphere and iconic landmarks like the Peace Memorial Park.\n",
      "5. Mount Fuji: A iconic natural landmark and popular location for filming.\n",
      "\n",
      "**Filming Incentives**\n",
      "\n",
      "Japan offers various filming incentives, such as:\n",
      "\n",
      "1. **The Japanese Film Commission**: Provides support for international film productions, including location scouting and permitting assistance.\n",
      "2. **The Tokyo Metropolitan Government's Film Commission**: Offers incentives for filming in Tokyo, including a rebate program and location assistance.\n",
      "\n",
      "Please let me know what specific information you would like me to elaborate on.\n",
      "dict_values([{'messages': AIMessage(content='', additional_kwargs={}, response_metadata={'token_usage': {'completion_tokens': 1, 'prompt_tokens': 782, 'total_tokens': 783, 'completion_time': 0.004, 'prompt_time': 0.137660726, 'queue_time': -9223372036.992437, 'total_time': 0.141660726}, 'model_name': 'llama-3.1-70b-versatile', 'system_fingerprint': 'fp_b6828be2c9', 'finish_reason': 'stop', 'logprobs': None}, id='run-c3267244-8647-4c12-b9fd-51b5f82b8688-0', usage_metadata={'input_tokens': 782, 'output_tokens': 1, 'total_tokens': 783})}])\n",
      "content='' additional_kwargs={} response_metadata={'token_usage': {'completion_tokens': 1, 'prompt_tokens': 782, 'total_tokens': 783, 'completion_time': 0.004, 'prompt_time': 0.137660726, 'queue_time': -9223372036.992437, 'total_time': 0.141660726}, 'model_name': 'llama-3.1-70b-versatile', 'system_fingerprint': 'fp_b6828be2c9', 'finish_reason': 'stop', 'logprobs': None} id='run-c3267244-8647-4c12-b9fd-51b5f82b8688-0' usage_metadata={'input_tokens': 782, 'output_tokens': 1, 'total_tokens': 783}\n",
      "Assistant:  \n",
      "dict_values([{'messages': AIMessage(content='**Comprehensive Budget Report for Film Production in Japan**\\n\\n**Assumptions**\\n\\n* Production duration: 20 days\\n* Crew size: 50 people (including international crew)\\n* Locations: Tokyo, Kyoto, Osaka\\n* Equipment: High-end cameras, lights, and drones\\n\\n**Budget Breakdown**\\n\\n1. **Transportation**\\n\\t* International flights from Los Angeles to Tokyo: $150,000 (average cost per person: $3,000)\\n\\t* Domestic flights: $10,000 (average cost per person: $200)\\n\\t* Ground transportation (cars, buses, trains): $20,000\\n\\tTotal: $180,000\\n2. **Compliance and Permits**\\n\\t* Location permits: $10,000\\n\\t* National Park permits: $5,000\\n\\t* Private property permits: $5,000\\n\\tTotal: $20,000\\n3. **Logistics and Equipment**\\n\\t* Equipment rental (cameras, lights, drones): $100,000\\n\\t* Equipment transportation: $20,000\\n\\t* Location scouting and management: $30,000\\n\\tTotal: $150,000\\n4. **Crew and Staffing**\\n\\t* International crew (director, cinematographer, etc.): $200,000 (average cost per person: $4,000)\\n\\t* Local crew (camera operators, lighting and sound technicians, etc.): $150,000 (average cost per person: $3,000)\\n\\t* Translator and interpreter: $10,000\\n\\tTotal: $360,000\\n5. **Catering and Accommodation**\\n\\t* Catering: $50,000 (average cost per day: $2,500)\\n\\t* Accommodation (hotels, apartments): $100,000 (average cost per person: $2,000)\\n\\tTotal: $150,000\\n6. **Miscellaneous**\\n\\t* Contingency fund: $50,000\\n\\t* Insurance: $20,000\\n\\tTotal: $70,000\\n\\n**Total Budget**: $930,000\\n\\n**Logistics Planning Report for Film Production in Japan**\\n\\n**Travel Arrangements**\\n\\n* International flights from Los Angeles to Tokyo: Japan Airlines or ANA\\n* Domestic flights: Japan Airlines or ANA\\n* Ground transportation: Private cars and buses for crew and equipment\\n\\n**Equipment Transportation**\\n\\n* Equipment rental company: Tokyo-based or international companies with a presence in Japan\\n* Equipment transportation: Private cars and trucks for short distances; shipping containers for long distances\\n\\n**Equipment Details**\\n\\n* Cameras: ARRI Alexa, RED Epic\\n* Lights: LED lights, HMI lights\\n* Drones: DJI Inspire 2, DJI Mavic 2\\n\\n**Location Schedules**\\n\\n* Tokyo: 5 days\\n* Kyoto: 5 days\\n* Osaka: 5 days\\n* Mount Fuji: 2 days (weather permitting)\\n\\n**Crew Travel Schedules**\\n\\n* International crew: Arrive in Tokyo 2 days before production starts\\n* Local crew: Arrive at each location 1 day before production starts\\n\\n**Accommodation Details**\\n\\n* Tokyo: Hotel rooms in Shinjuku or Shibuya\\n* Kyoto: Hotel rooms in Gion or Downtown Kyoto\\n* Osaka: Hotel rooms in Dotonbori or Umeda\\n* Mount Fuji: Hotel rooms in Fujiyoshida or Kawaguchiko\\n\\n**Daily Transport**\\n\\n* Private cars and buses for crew and equipment\\n* Trains and subways for short distances\\n\\n**Contingency Plans**\\n\\n* Weather delays: Reschedule filming for the next available day\\n* Equipment failure: Rent backup equipment or repair/replace faulty equipment\\n* Location changes: Scout alternative locations and adjust schedules accordingly', additional_kwargs={}, response_metadata={'token_usage': {'completion_tokens': 775, 'prompt_tokens': 873, 'total_tokens': 1648, 'completion_time': 3.1, 'prompt_time': 0.158109499, 'queue_time': 0.0036869550000000195, 'total_time': 3.258109499}, 'model_name': 'llama-3.1-70b-versatile', 'system_fingerprint': 'fp_b6828be2c9', 'finish_reason': 'stop', 'logprobs': None}, id='run-7b15eb10-05e8-4bb5-8559-74f05ef785e1-0', usage_metadata={'input_tokens': 873, 'output_tokens': 775, 'total_tokens': 1648})}])\n",
      "content='**Comprehensive Budget Report for Film Production in Japan**\\n\\n**Assumptions**\\n\\n* Production duration: 20 days\\n* Crew size: 50 people (including international crew)\\n* Locations: Tokyo, Kyoto, Osaka\\n* Equipment: High-end cameras, lights, and drones\\n\\n**Budget Breakdown**\\n\\n1. **Transportation**\\n\\t* International flights from Los Angeles to Tokyo: $150,000 (average cost per person: $3,000)\\n\\t* Domestic flights: $10,000 (average cost per person: $200)\\n\\t* Ground transportation (cars, buses, trains): $20,000\\n\\tTotal: $180,000\\n2. **Compliance and Permits**\\n\\t* Location permits: $10,000\\n\\t* National Park permits: $5,000\\n\\t* Private property permits: $5,000\\n\\tTotal: $20,000\\n3. **Logistics and Equipment**\\n\\t* Equipment rental (cameras, lights, drones): $100,000\\n\\t* Equipment transportation: $20,000\\n\\t* Location scouting and management: $30,000\\n\\tTotal: $150,000\\n4. **Crew and Staffing**\\n\\t* International crew (director, cinematographer, etc.): $200,000 (average cost per person: $4,000)\\n\\t* Local crew (camera operators, lighting and sound technicians, etc.): $150,000 (average cost per person: $3,000)\\n\\t* Translator and interpreter: $10,000\\n\\tTotal: $360,000\\n5. **Catering and Accommodation**\\n\\t* Catering: $50,000 (average cost per day: $2,500)\\n\\t* Accommodation (hotels, apartments): $100,000 (average cost per person: $2,000)\\n\\tTotal: $150,000\\n6. **Miscellaneous**\\n\\t* Contingency fund: $50,000\\n\\t* Insurance: $20,000\\n\\tTotal: $70,000\\n\\n**Total Budget**: $930,000\\n\\n**Logistics Planning Report for Film Production in Japan**\\n\\n**Travel Arrangements**\\n\\n* International flights from Los Angeles to Tokyo: Japan Airlines or ANA\\n* Domestic flights: Japan Airlines or ANA\\n* Ground transportation: Private cars and buses for crew and equipment\\n\\n**Equipment Transportation**\\n\\n* Equipment rental company: Tokyo-based or international companies with a presence in Japan\\n* Equipment transportation: Private cars and trucks for short distances; shipping containers for long distances\\n\\n**Equipment Details**\\n\\n* Cameras: ARRI Alexa, RED Epic\\n* Lights: LED lights, HMI lights\\n* Drones: DJI Inspire 2, DJI Mavic 2\\n\\n**Location Schedules**\\n\\n* Tokyo: 5 days\\n* Kyoto: 5 days\\n* Osaka: 5 days\\n* Mount Fuji: 2 days (weather permitting)\\n\\n**Crew Travel Schedules**\\n\\n* International crew: Arrive in Tokyo 2 days before production starts\\n* Local crew: Arrive at each location 1 day before production starts\\n\\n**Accommodation Details**\\n\\n* Tokyo: Hotel rooms in Shinjuku or Shibuya\\n* Kyoto: Hotel rooms in Gion or Downtown Kyoto\\n* Osaka: Hotel rooms in Dotonbori or Umeda\\n* Mount Fuji: Hotel rooms in Fujiyoshida or Kawaguchiko\\n\\n**Daily Transport**\\n\\n* Private cars and buses for crew and equipment\\n* Trains and subways for short distances\\n\\n**Contingency Plans**\\n\\n* Weather delays: Reschedule filming for the next available day\\n* Equipment failure: Rent backup equipment or repair/replace faulty equipment\\n* Location changes: Scout alternative locations and adjust schedules accordingly' additional_kwargs={} response_metadata={'token_usage': {'completion_tokens': 775, 'prompt_tokens': 873, 'total_tokens': 1648, 'completion_time': 3.1, 'prompt_time': 0.158109499, 'queue_time': 0.0036869550000000195, 'total_time': 3.258109499}, 'model_name': 'llama-3.1-70b-versatile', 'system_fingerprint': 'fp_b6828be2c9', 'finish_reason': 'stop', 'logprobs': None} id='run-7b15eb10-05e8-4bb5-8559-74f05ef785e1-0' usage_metadata={'input_tokens': 873, 'output_tokens': 775, 'total_tokens': 1648}\n",
      "Assistant:  **Comprehensive Budget Report for Film Production in Japan**\n",
      "\n",
      "**Assumptions**\n",
      "\n",
      "* Production duration: 20 days\n",
      "* Crew size: 50 people (including international crew)\n",
      "* Locations: Tokyo, Kyoto, Osaka\n",
      "* Equipment: High-end cameras, lights, and drones\n",
      "\n",
      "**Budget Breakdown**\n",
      "\n",
      "1. **Transportation**\n",
      "\t* International flights from Los Angeles to Tokyo: $150,000 (average cost per person: $3,000)\n",
      "\t* Domestic flights: $10,000 (average cost per person: $200)\n",
      "\t* Ground transportation (cars, buses, trains): $20,000\n",
      "\tTotal: $180,000\n",
      "2. **Compliance and Permits**\n",
      "\t* Location permits: $10,000\n",
      "\t* National Park permits: $5,000\n",
      "\t* Private property permits: $5,000\n",
      "\tTotal: $20,000\n",
      "3. **Logistics and Equipment**\n",
      "\t* Equipment rental (cameras, lights, drones): $100,000\n",
      "\t* Equipment transportation: $20,000\n",
      "\t* Location scouting and management: $30,000\n",
      "\tTotal: $150,000\n",
      "4. **Crew and Staffing**\n",
      "\t* International crew (director, cinematographer, etc.): $200,000 (average cost per person: $4,000)\n",
      "\t* Local crew (camera operators, lighting and sound technicians, etc.): $150,000 (average cost per person: $3,000)\n",
      "\t* Translator and interpreter: $10,000\n",
      "\tTotal: $360,000\n",
      "5. **Catering and Accommodation**\n",
      "\t* Catering: $50,000 (average cost per day: $2,500)\n",
      "\t* Accommodation (hotels, apartments): $100,000 (average cost per person: $2,000)\n",
      "\tTotal: $150,000\n",
      "6. **Miscellaneous**\n",
      "\t* Contingency fund: $50,000\n",
      "\t* Insurance: $20,000\n",
      "\tTotal: $70,000\n",
      "\n",
      "**Total Budget**: $930,000\n",
      "\n",
      "**Logistics Planning Report for Film Production in Japan**\n",
      "\n",
      "**Travel Arrangements**\n",
      "\n",
      "* International flights from Los Angeles to Tokyo: Japan Airlines or ANA\n",
      "* Domestic flights: Japan Airlines or ANA\n",
      "* Ground transportation: Private cars and buses for crew and equipment\n",
      "\n",
      "**Equipment Transportation**\n",
      "\n",
      "* Equipment rental company: Tokyo-based or international companies with a presence in Japan\n",
      "* Equipment transportation: Private cars and trucks for short distances; shipping containers for long distances\n",
      "\n",
      "**Equipment Details**\n",
      "\n",
      "* Cameras: ARRI Alexa, RED Epic\n",
      "* Lights: LED lights, HMI lights\n",
      "* Drones: DJI Inspire 2, DJI Mavic 2\n",
      "\n",
      "**Location Schedules**\n",
      "\n",
      "* Tokyo: 5 days\n",
      "* Kyoto: 5 days\n",
      "* Osaka: 5 days\n",
      "* Mount Fuji: 2 days (weather permitting)\n",
      "\n",
      "**Crew Travel Schedules**\n",
      "\n",
      "* International crew: Arrive in Tokyo 2 days before production starts\n",
      "* Local crew: Arrive at each location 1 day before production starts\n",
      "\n",
      "**Accommodation Details**\n",
      "\n",
      "* Tokyo: Hotel rooms in Shinjuku or Shibuya\n",
      "* Kyoto: Hotel rooms in Gion or Downtown Kyoto\n",
      "* Osaka: Hotel rooms in Dotonbori or Umeda\n",
      "* Mount Fuji: Hotel rooms in Fujiyoshida or Kawaguchiko\n",
      "\n",
      "**Daily Transport**\n",
      "\n",
      "* Private cars and buses for crew and equipment\n",
      "* Trains and subways for short distances\n",
      "\n",
      "**Contingency Plans**\n",
      "\n",
      "* Weather delays: Reschedule filming for the next available day\n",
      "* Equipment failure: Rent backup equipment or repair/replace faulty equipment\n",
      "* Location changes: Scout alternative locations and adjust schedules accordingly\n",
      "User: exit\n"
     ]
    }
   ],
   "source": [
    "while True:\n",
    "    # user is giving an input\n",
    "    user_input = input(\"User: \")\n",
    "    #\n",
    "    if user_input.lower() == \"exit\":\n",
    "        break\n",
    "    for event in graph.stream({\"messages\": (\"user\", user_input)}):\n",
    "        print(event.values())\n",
    "        for value in event.values():\n",
    "            print(value[\"messages\"])\n",
    "            print(\"Assistant: \", value[\"messages\"].content)"
   ]
  },
  {
   "cell_type": "markdown",
   "id": "59433d91",
   "metadata": {},
   "source": [
    "### References\n",
    "<a href=\"https://www.youtube.com/watch?v=gqvFmK7LpDo\">Langgraph introduction video</a> <br>\n",
    "<a href=\"https://medium.com/@cplog/introduction-to-langgraph-a-beginners-guide-14f9be027141\">Langgraph usage</a> "
   ]
  }
 ],
 "metadata": {
  "kernelspec": {
   "display_name": "Python 3 (ipykernel)",
   "language": "python",
   "name": "python3"
  },
  "language_info": {
   "codemirror_mode": {
    "name": "ipython",
    "version": 3
   },
   "file_extension": ".py",
   "mimetype": "text/x-python",
   "name": "python",
   "nbconvert_exporter": "python",
   "pygments_lexer": "ipython3",
   "version": "3.11.3"
  }
 },
 "nbformat": 4,
 "nbformat_minor": 5
}
